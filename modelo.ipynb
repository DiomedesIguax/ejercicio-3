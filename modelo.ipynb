{
 "cells": [
  {
   "cell_type": "code",
   "execution_count": 46,
   "id": "3ed1bb31",
   "metadata": {},
   "outputs": [
    {
     "name": "stdout",
     "output_type": "stream",
     "text": [
      "quality\n",
      "5    681\n",
      "6    638\n",
      "7    199\n",
      "4     53\n",
      "8     18\n",
      "3     10\n",
      "Name: count, dtype: int64\n",
      "Accuracy del clasificador KNN: 0.6\n",
      "Accuracy del perceptrón multicapa: 0.6714285714285714\n"
     ]
    },
    {
     "name": "stderr",
     "output_type": "stream",
     "text": [
      "C:\\ProgramData\\anaconda3\\Lib\\site-packages\\sklearn\\neural_network\\_multilayer_perceptron.py:691: ConvergenceWarning: Stochastic Optimizer: Maximum iterations (300) reached and the optimization hasn't converged yet.\n",
      "  warnings.warn(\n"
     ]
    },
    {
     "data": {
      "text/plain": [
       "['mlp_model.joblib']"
      ]
     },
     "execution_count": 46,
     "metadata": {},
     "output_type": "execute_result"
    }
   ],
   "source": [
    "import pandas as pd\n",
    "from sklearn.model_selection import train_test_split\n",
    "from sklearn.preprocessing import StandardScaler\n",
    "from sklearn.neighbors import KNeighborsClassifier\n",
    "from sklearn.neural_network import MLPClassifier\n",
    "\n",
    "# Cargar el archivo CSV\n",
    "data = pd.read_csv('C:/Users/danie/Desktop/ejercicio-3/winequality-red.csv')\n",
    "\n",
    "# Cargar la base de datos\n",
    "data = pd.read_csv('C:/Users/danie/Desktop/ejercicio-3/winequality-red.csv')\n",
    "\n",
    "# Verificar la distribución de la variable categórica 'quality'\n",
    "print(data['quality'].value_counts())\n",
    "\n",
    "# Filtrar solo 1000 datos\n",
    "data_subset = data.sample(n=1400, random_state=42)\n",
    "\n",
    "# Dividir los datos en características (X) y etiquetas (y)\n",
    "X = data_subset.drop('quality', axis=1)\n",
    "y = data_subset['quality']\n",
    "\n",
    "# Dividir los datos en conjuntos de entrenamiento y prueba\n",
    "X_train, X_test, y_train, y_test = train_test_split(X, y, test_size=0.2, random_state=42)\n",
    "\n",
    "# Normalizar los datos\n",
    "scaler = StandardScaler()\n",
    "X_train_scaled = scaler.fit_transform(X_train)\n",
    "X_test_scaled = scaler.transform(X_test)\n",
    "\n",
    "# Entrenar el clasificador KNN\n",
    "knn_classifier = KNeighborsClassifier(n_neighbors=10)\n",
    "knn_classifier.fit(X_train_scaled, y_train)\n",
    "\n",
    "# Entrenar el perceptrón multicapa\n",
    "mlp_classifier = MLPClassifier(hidden_layer_sizes= (50,50 ), max_iter= 300, random_state=42)\n",
    "mlp_classifier.fit(X_train_scaled, y_train)\n",
    "\n",
    "# Evaluar el rendimiento del clasificador KNN\n",
    "knn_accuracy = knn_classifier.score(X_test_scaled, y_test)\n",
    "print(\"Accuracy del clasificador KNN:\", knn_accuracy)\n",
    "\n",
    "# Evaluar el rendimiento del perceptrón multicapa\n",
    "mlp_accuracy = mlp_classifier.score(X_test_scaled, y_test)\n",
    "print(\"Accuracy del perceptrón multicapa:\", mlp_accuracy)\n",
    "\n",
    "from joblib import dump\n",
    "\n",
    "# Suponiendo que los modelos ya están entrenados y se llaman knn_classifier y mlp_classifier\n",
    "\n",
    "# Guardar el modelo KNN\n",
    "dump(knn_classifier, 'knn_model.joblib')\n",
    "\n",
    "# Guardar el modelo perceptrón multicapa\n",
    "dump(mlp_classifier, 'mlp_model.joblib')\n"
   ]
  },
  {
   "cell_type": "code",
   "execution_count": null,
   "id": "7e7d7927",
   "metadata": {},
   "outputs": [],
   "source": []
  }
 ],
 "metadata": {
  "kernelspec": {
   "display_name": "Python 3 (ipykernel)",
   "language": "python",
   "name": "python3"
  },
  "language_info": {
   "codemirror_mode": {
    "name": "ipython",
    "version": 3
   },
   "file_extension": ".py",
   "mimetype": "text/x-python",
   "name": "python",
   "nbconvert_exporter": "python",
   "pygments_lexer": "ipython3",
   "version": "3.11.5"
  }
 },
 "nbformat": 4,
 "nbformat_minor": 5
}
